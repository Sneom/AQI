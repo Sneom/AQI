{
  "nbformat": 4,
  "nbformat_minor": 0,
  "metadata": {
    "colab": {
      "provenance": []
    },
    "kernelspec": {
      "name": "python3",
      "display_name": "Python 3"
    },
    "language_info": {
      "name": "python"
    }
  },
  "cells": [
    {
      "cell_type": "code",
      "execution_count": 3,
      "metadata": {
        "id": "QaATLtcZZgkV"
      },
      "outputs": [],
      "source": [
        "# Import necessary libraries\n",
        "\n",
        "import pandas as pd\n",
        "import numpy as np\n",
        "from sklearn.model_selection import train_test_split\n",
        "from sklearn.ensemble import RandomForestRegressor\n",
        "from sklearn.metrics import mean_absolute_error, mean_squared_error\n",
        "import joblib\n",
        "import matplotlib.pyplot as plt\n",
        "from datetime import datetime"
      ]
    },
    {
      "cell_type": "code",
      "source": [
        "# Load dataset\n",
        "data_path = 'combined_data.csv'  # Update with your actual path\n",
        "df = pd.read_csv(data_path)\n",
        "df.head()"
      ],
      "metadata": {
        "colab": {
          "base_uri": "https://localhost:8080/",
          "height": 206
        },
        "id": "EdcSu3AxZoOu",
        "outputId": "0b74390c-8430-419a-c771-276e74c29eea"
      },
      "execution_count": 4,
      "outputs": [
        {
          "output_type": "execute_result",
          "data": {
            "text/plain": [
              "          From Date           To Date   PM2.5    PM10    NO2    SO2    CO  \\\n",
              "0  01-01-2016 00:00  02-01-2016 00:00  104.05  131.63  69.91  41.12  2.78   \n",
              "1  02-01-2016 00:00  03-01-2016 00:00   75.84  104.38  47.84  28.14  1.73   \n",
              "2  03-01-2016 00:00  04-01-2016 00:00   78.44  111.12  32.53  19.14  2.15   \n",
              "3  04-01-2016 00:00  05-01-2016 00:00  110.34  166.90  26.10  15.35  2.91   \n",
              "4  05-01-2016 00:00  06-01-2016 00:00  117.52  168.11  24.88  14.63  3.06   \n",
              "\n",
              "    Temp  \n",
              "0  23.26  \n",
              "1  23.95  \n",
              "2  23.52  \n",
              "3  22.64  \n",
              "4  22.72  "
            ],
            "text/html": [
              "\n",
              "  <div id=\"df-0b3ef89b-b819-469a-8f34-75933a45365a\" class=\"colab-df-container\">\n",
              "    <div>\n",
              "<style scoped>\n",
              "    .dataframe tbody tr th:only-of-type {\n",
              "        vertical-align: middle;\n",
              "    }\n",
              "\n",
              "    .dataframe tbody tr th {\n",
              "        vertical-align: top;\n",
              "    }\n",
              "\n",
              "    .dataframe thead th {\n",
              "        text-align: right;\n",
              "    }\n",
              "</style>\n",
              "<table border=\"1\" class=\"dataframe\">\n",
              "  <thead>\n",
              "    <tr style=\"text-align: right;\">\n",
              "      <th></th>\n",
              "      <th>From Date</th>\n",
              "      <th>To Date</th>\n",
              "      <th>PM2.5</th>\n",
              "      <th>PM10</th>\n",
              "      <th>NO2</th>\n",
              "      <th>SO2</th>\n",
              "      <th>CO</th>\n",
              "      <th>Temp</th>\n",
              "    </tr>\n",
              "  </thead>\n",
              "  <tbody>\n",
              "    <tr>\n",
              "      <th>0</th>\n",
              "      <td>01-01-2016 00:00</td>\n",
              "      <td>02-01-2016 00:00</td>\n",
              "      <td>104.05</td>\n",
              "      <td>131.63</td>\n",
              "      <td>69.91</td>\n",
              "      <td>41.12</td>\n",
              "      <td>2.78</td>\n",
              "      <td>23.26</td>\n",
              "    </tr>\n",
              "    <tr>\n",
              "      <th>1</th>\n",
              "      <td>02-01-2016 00:00</td>\n",
              "      <td>03-01-2016 00:00</td>\n",
              "      <td>75.84</td>\n",
              "      <td>104.38</td>\n",
              "      <td>47.84</td>\n",
              "      <td>28.14</td>\n",
              "      <td>1.73</td>\n",
              "      <td>23.95</td>\n",
              "    </tr>\n",
              "    <tr>\n",
              "      <th>2</th>\n",
              "      <td>03-01-2016 00:00</td>\n",
              "      <td>04-01-2016 00:00</td>\n",
              "      <td>78.44</td>\n",
              "      <td>111.12</td>\n",
              "      <td>32.53</td>\n",
              "      <td>19.14</td>\n",
              "      <td>2.15</td>\n",
              "      <td>23.52</td>\n",
              "    </tr>\n",
              "    <tr>\n",
              "      <th>3</th>\n",
              "      <td>04-01-2016 00:00</td>\n",
              "      <td>05-01-2016 00:00</td>\n",
              "      <td>110.34</td>\n",
              "      <td>166.90</td>\n",
              "      <td>26.10</td>\n",
              "      <td>15.35</td>\n",
              "      <td>2.91</td>\n",
              "      <td>22.64</td>\n",
              "    </tr>\n",
              "    <tr>\n",
              "      <th>4</th>\n",
              "      <td>05-01-2016 00:00</td>\n",
              "      <td>06-01-2016 00:00</td>\n",
              "      <td>117.52</td>\n",
              "      <td>168.11</td>\n",
              "      <td>24.88</td>\n",
              "      <td>14.63</td>\n",
              "      <td>3.06</td>\n",
              "      <td>22.72</td>\n",
              "    </tr>\n",
              "  </tbody>\n",
              "</table>\n",
              "</div>\n",
              "    <div class=\"colab-df-buttons\">\n",
              "\n",
              "  <div class=\"colab-df-container\">\n",
              "    <button class=\"colab-df-convert\" onclick=\"convertToInteractive('df-0b3ef89b-b819-469a-8f34-75933a45365a')\"\n",
              "            title=\"Convert this dataframe to an interactive table.\"\n",
              "            style=\"display:none;\">\n",
              "\n",
              "  <svg xmlns=\"http://www.w3.org/2000/svg\" height=\"24px\" viewBox=\"0 -960 960 960\">\n",
              "    <path d=\"M120-120v-720h720v720H120Zm60-500h600v-160H180v160Zm220 220h160v-160H400v160Zm0 220h160v-160H400v160ZM180-400h160v-160H180v160Zm440 0h160v-160H620v160ZM180-180h160v-160H180v160Zm440 0h160v-160H620v160Z\"/>\n",
              "  </svg>\n",
              "    </button>\n",
              "\n",
              "  <style>\n",
              "    .colab-df-container {\n",
              "      display:flex;\n",
              "      gap: 12px;\n",
              "    }\n",
              "\n",
              "    .colab-df-convert {\n",
              "      background-color: #E8F0FE;\n",
              "      border: none;\n",
              "      border-radius: 50%;\n",
              "      cursor: pointer;\n",
              "      display: none;\n",
              "      fill: #1967D2;\n",
              "      height: 32px;\n",
              "      padding: 0 0 0 0;\n",
              "      width: 32px;\n",
              "    }\n",
              "\n",
              "    .colab-df-convert:hover {\n",
              "      background-color: #E2EBFA;\n",
              "      box-shadow: 0px 1px 2px rgba(60, 64, 67, 0.3), 0px 1px 3px 1px rgba(60, 64, 67, 0.15);\n",
              "      fill: #174EA6;\n",
              "    }\n",
              "\n",
              "    .colab-df-buttons div {\n",
              "      margin-bottom: 4px;\n",
              "    }\n",
              "\n",
              "    [theme=dark] .colab-df-convert {\n",
              "      background-color: #3B4455;\n",
              "      fill: #D2E3FC;\n",
              "    }\n",
              "\n",
              "    [theme=dark] .colab-df-convert:hover {\n",
              "      background-color: #434B5C;\n",
              "      box-shadow: 0px 1px 3px 1px rgba(0, 0, 0, 0.15);\n",
              "      filter: drop-shadow(0px 1px 2px rgba(0, 0, 0, 0.3));\n",
              "      fill: #FFFFFF;\n",
              "    }\n",
              "  </style>\n",
              "\n",
              "    <script>\n",
              "      const buttonEl =\n",
              "        document.querySelector('#df-0b3ef89b-b819-469a-8f34-75933a45365a button.colab-df-convert');\n",
              "      buttonEl.style.display =\n",
              "        google.colab.kernel.accessAllowed ? 'block' : 'none';\n",
              "\n",
              "      async function convertToInteractive(key) {\n",
              "        const element = document.querySelector('#df-0b3ef89b-b819-469a-8f34-75933a45365a');\n",
              "        const dataTable =\n",
              "          await google.colab.kernel.invokeFunction('convertToInteractive',\n",
              "                                                    [key], {});\n",
              "        if (!dataTable) return;\n",
              "\n",
              "        const docLinkHtml = 'Like what you see? Visit the ' +\n",
              "          '<a target=\"_blank\" href=https://colab.research.google.com/notebooks/data_table.ipynb>data table notebook</a>'\n",
              "          + ' to learn more about interactive tables.';\n",
              "        element.innerHTML = '';\n",
              "        dataTable['output_type'] = 'display_data';\n",
              "        await google.colab.output.renderOutput(dataTable, element);\n",
              "        const docLink = document.createElement('div');\n",
              "        docLink.innerHTML = docLinkHtml;\n",
              "        element.appendChild(docLink);\n",
              "      }\n",
              "    </script>\n",
              "  </div>\n",
              "\n",
              "\n",
              "<div id=\"df-e5e3dc35-b4b6-4e9c-95f9-b43bab47c4c8\">\n",
              "  <button class=\"colab-df-quickchart\" onclick=\"quickchart('df-e5e3dc35-b4b6-4e9c-95f9-b43bab47c4c8')\"\n",
              "            title=\"Suggest charts\"\n",
              "            style=\"display:none;\">\n",
              "\n",
              "<svg xmlns=\"http://www.w3.org/2000/svg\" height=\"24px\"viewBox=\"0 0 24 24\"\n",
              "     width=\"24px\">\n",
              "    <g>\n",
              "        <path d=\"M19 3H5c-1.1 0-2 .9-2 2v14c0 1.1.9 2 2 2h14c1.1 0 2-.9 2-2V5c0-1.1-.9-2-2-2zM9 17H7v-7h2v7zm4 0h-2V7h2v10zm4 0h-2v-4h2v4z\"/>\n",
              "    </g>\n",
              "</svg>\n",
              "  </button>\n",
              "\n",
              "<style>\n",
              "  .colab-df-quickchart {\n",
              "      --bg-color: #E8F0FE;\n",
              "      --fill-color: #1967D2;\n",
              "      --hover-bg-color: #E2EBFA;\n",
              "      --hover-fill-color: #174EA6;\n",
              "      --disabled-fill-color: #AAA;\n",
              "      --disabled-bg-color: #DDD;\n",
              "  }\n",
              "\n",
              "  [theme=dark] .colab-df-quickchart {\n",
              "      --bg-color: #3B4455;\n",
              "      --fill-color: #D2E3FC;\n",
              "      --hover-bg-color: #434B5C;\n",
              "      --hover-fill-color: #FFFFFF;\n",
              "      --disabled-bg-color: #3B4455;\n",
              "      --disabled-fill-color: #666;\n",
              "  }\n",
              "\n",
              "  .colab-df-quickchart {\n",
              "    background-color: var(--bg-color);\n",
              "    border: none;\n",
              "    border-radius: 50%;\n",
              "    cursor: pointer;\n",
              "    display: none;\n",
              "    fill: var(--fill-color);\n",
              "    height: 32px;\n",
              "    padding: 0;\n",
              "    width: 32px;\n",
              "  }\n",
              "\n",
              "  .colab-df-quickchart:hover {\n",
              "    background-color: var(--hover-bg-color);\n",
              "    box-shadow: 0 1px 2px rgba(60, 64, 67, 0.3), 0 1px 3px 1px rgba(60, 64, 67, 0.15);\n",
              "    fill: var(--button-hover-fill-color);\n",
              "  }\n",
              "\n",
              "  .colab-df-quickchart-complete:disabled,\n",
              "  .colab-df-quickchart-complete:disabled:hover {\n",
              "    background-color: var(--disabled-bg-color);\n",
              "    fill: var(--disabled-fill-color);\n",
              "    box-shadow: none;\n",
              "  }\n",
              "\n",
              "  .colab-df-spinner {\n",
              "    border: 2px solid var(--fill-color);\n",
              "    border-color: transparent;\n",
              "    border-bottom-color: var(--fill-color);\n",
              "    animation:\n",
              "      spin 1s steps(1) infinite;\n",
              "  }\n",
              "\n",
              "  @keyframes spin {\n",
              "    0% {\n",
              "      border-color: transparent;\n",
              "      border-bottom-color: var(--fill-color);\n",
              "      border-left-color: var(--fill-color);\n",
              "    }\n",
              "    20% {\n",
              "      border-color: transparent;\n",
              "      border-left-color: var(--fill-color);\n",
              "      border-top-color: var(--fill-color);\n",
              "    }\n",
              "    30% {\n",
              "      border-color: transparent;\n",
              "      border-left-color: var(--fill-color);\n",
              "      border-top-color: var(--fill-color);\n",
              "      border-right-color: var(--fill-color);\n",
              "    }\n",
              "    40% {\n",
              "      border-color: transparent;\n",
              "      border-right-color: var(--fill-color);\n",
              "      border-top-color: var(--fill-color);\n",
              "    }\n",
              "    60% {\n",
              "      border-color: transparent;\n",
              "      border-right-color: var(--fill-color);\n",
              "    }\n",
              "    80% {\n",
              "      border-color: transparent;\n",
              "      border-right-color: var(--fill-color);\n",
              "      border-bottom-color: var(--fill-color);\n",
              "    }\n",
              "    90% {\n",
              "      border-color: transparent;\n",
              "      border-bottom-color: var(--fill-color);\n",
              "    }\n",
              "  }\n",
              "</style>\n",
              "\n",
              "  <script>\n",
              "    async function quickchart(key) {\n",
              "      const quickchartButtonEl =\n",
              "        document.querySelector('#' + key + ' button');\n",
              "      quickchartButtonEl.disabled = true;  // To prevent multiple clicks.\n",
              "      quickchartButtonEl.classList.add('colab-df-spinner');\n",
              "      try {\n",
              "        const charts = await google.colab.kernel.invokeFunction(\n",
              "            'suggestCharts', [key], {});\n",
              "      } catch (error) {\n",
              "        console.error('Error during call to suggestCharts:', error);\n",
              "      }\n",
              "      quickchartButtonEl.classList.remove('colab-df-spinner');\n",
              "      quickchartButtonEl.classList.add('colab-df-quickchart-complete');\n",
              "    }\n",
              "    (() => {\n",
              "      let quickchartButtonEl =\n",
              "        document.querySelector('#df-e5e3dc35-b4b6-4e9c-95f9-b43bab47c4c8 button');\n",
              "      quickchartButtonEl.style.display =\n",
              "        google.colab.kernel.accessAllowed ? 'block' : 'none';\n",
              "    })();\n",
              "  </script>\n",
              "</div>\n",
              "\n",
              "    </div>\n",
              "  </div>\n"
            ],
            "application/vnd.google.colaboratory.intrinsic+json": {
              "type": "dataframe",
              "variable_name": "df",
              "summary": "{\n  \"name\": \"df\",\n  \"rows\": 3185,\n  \"fields\": [\n    {\n      \"column\": \"From Date\",\n      \"properties\": {\n        \"dtype\": \"string\",\n        \"num_unique_values\": 3185,\n        \"samples\": [\n          \"26-10-2018 00:00\",\n          \"28-09-2018 00:00\",\n          \"24-02-2018 00:00\"\n        ],\n        \"semantic_type\": \"\",\n        \"description\": \"\"\n      }\n    },\n    {\n      \"column\": \"To Date\",\n      \"properties\": {\n        \"dtype\": \"string\",\n        \"num_unique_values\": 3185,\n        \"samples\": [\n          \"27-10-2018 00:00\",\n          \"29-09-2018 00:00\",\n          \"25-02-2018 00:00\"\n        ],\n        \"semantic_type\": \"\",\n        \"description\": \"\"\n      }\n    },\n    {\n      \"column\": \"PM2.5\",\n      \"properties\": {\n        \"dtype\": \"number\",\n        \"std\": 39.572742751134214,\n        \"min\": 0.0,\n        \"max\": 783.92,\n        \"num_unique_values\": 2262,\n        \"samples\": [\n          13.88,\n          48.89,\n          64.35\n        ],\n        \"semantic_type\": \"\",\n        \"description\": \"\"\n      }\n    },\n    {\n      \"column\": \"PM10\",\n      \"properties\": {\n        \"dtype\": \"number\",\n        \"std\": 56.845445264585095,\n        \"min\": 0.0,\n        \"max\": 637.92,\n        \"num_unique_values\": 2415,\n        \"samples\": [\n          75.94,\n          34.0,\n          56.09\n        ],\n        \"semantic_type\": \"\",\n        \"description\": \"\"\n      }\n    },\n    {\n      \"column\": \"NO2\",\n      \"properties\": {\n        \"dtype\": \"number\",\n        \"std\": 30.531051754428496,\n        \"min\": 0.0,\n        \"max\": 500.0,\n        \"num_unique_values\": 1742,\n        \"samples\": [\n          21.85,\n          41.87,\n          13.9\n        ],\n        \"semantic_type\": \"\",\n        \"description\": \"\"\n      }\n    },\n    {\n      \"column\": \"SO2\",\n      \"properties\": {\n        \"dtype\": \"number\",\n        \"std\": 24.76910136025762,\n        \"min\": 0.0,\n        \"max\": 533.84,\n        \"num_unique_values\": 1680,\n        \"samples\": [\n          13.43,\n          9.17,\n          5.79\n        ],\n        \"semantic_type\": \"\",\n        \"description\": \"\"\n      }\n    },\n    {\n      \"column\": \"CO\",\n      \"properties\": {\n        \"dtype\": \"number\",\n        \"std\": 0.7163575732276908,\n        \"min\": 0.0,\n        \"max\": 6.63,\n        \"num_unique_values\": 326,\n        \"samples\": [\n          0.98,\n          2.11,\n          1.32\n        ],\n        \"semantic_type\": \"\",\n        \"description\": \"\"\n      }\n    },\n    {\n      \"column\": \"Temp\",\n      \"properties\": {\n        \"dtype\": \"number\",\n        \"std\": 13.974757127887095,\n        \"min\": -28.2,\n        \"max\": 106.06,\n        \"num_unique_values\": 1613,\n        \"samples\": [\n          25.36,\n          26.84,\n          29.68\n        ],\n        \"semantic_type\": \"\",\n        \"description\": \"\"\n      }\n    }\n  ]\n}"
            }
          },
          "metadata": {},
          "execution_count": 4
        }
      ]
    },
    {
      "cell_type": "code",
      "source": [
        "# Step 1: Convert 'DateTime' to datetime format and extract useful features\n",
        "# Convert 'DateTime' to a proper format and extract features\n",
        "if 'DateTime' in df.columns:\n",
        "    df['DateTime'] = pd.to_datetime(df['DateTime'], errors='coerce')\n",
        "    # Extract useful features\n",
        "    df['Year'] = df['DateTime'].dt.year\n",
        "    df['Month'] = df['DateTime'].dt.month\n",
        "    df['Day'] = df['DateTime'].dt.day\n",
        "    df['Hour'] = df['DateTime'].dt.hour\n",
        "    # Drop the original 'DateTime' column\n",
        "    df.drop(columns=['DateTime'], inplace=True)\n",
        "\n",
        "# Fill missing values only in numeric columns\n",
        "numeric_cols = df.select_dtypes(include=[np.number]).columns\n",
        "df[numeric_cols] = df[numeric_cols].fillna(df[numeric_cols].mean())\n",
        "\n",
        "# Check if the data has been cleaned and transformed\n",
        "print(df.head())\n"
      ],
      "metadata": {
        "colab": {
          "base_uri": "https://localhost:8080/"
        },
        "id": "OVbWEy33aX3_",
        "outputId": "97564212-2d61-4c77-ac38-db3eba16e218"
      },
      "execution_count": 5,
      "outputs": [
        {
          "output_type": "stream",
          "name": "stdout",
          "text": [
            "          From Date           To Date   PM2.5    PM10    NO2    SO2    CO  \\\n",
            "0  01-01-2016 00:00  02-01-2016 00:00  104.05  131.63  69.91  41.12  2.78   \n",
            "1  02-01-2016 00:00  03-01-2016 00:00   75.84  104.38  47.84  28.14  1.73   \n",
            "2  03-01-2016 00:00  04-01-2016 00:00   78.44  111.12  32.53  19.14  2.15   \n",
            "3  04-01-2016 00:00  05-01-2016 00:00  110.34  166.90  26.10  15.35  2.91   \n",
            "4  05-01-2016 00:00  06-01-2016 00:00  117.52  168.11  24.88  14.63  3.06   \n",
            "\n",
            "    Temp  \n",
            "0  23.26  \n",
            "1  23.95  \n",
            "2  23.52  \n",
            "3  22.64  \n",
            "4  22.72  \n"
          ]
        }
      ]
    },
    {
      "cell_type": "code",
      "source": [
        "# Step 2: Calculate AQI for PM2.5 and PM10\n",
        "\n",
        "# AQI breakpoints for PM2.5 and PM10 (US EPA standards)\n",
        "pm25_breakpoints = [\n",
        "    (0, 12, 0, 50), (12.1, 35.4, 51, 100), (35.5, 55.4, 101, 150),\n",
        "    (55.5, 150.4, 151, 200), (150.5, 250.4, 201, 300), (250.5, 350.4, 301, 400),\n",
        "    (350.5, 500.4, 401, 500)\n",
        "]\n",
        "\n",
        "pm10_breakpoints = [\n",
        "    (0, 54, 0, 50), (55, 154, 51, 100), (155, 254, 101, 150),\n",
        "    (255, 354, 151, 200), (355, 424, 201, 300), (425, 504, 301, 400),\n",
        "    (505, 604, 401, 500)\n",
        "]\n",
        "\n",
        "# Function to calculate AQI based on concentration and breakpoints\n",
        "def calculate_aqi(concentration, breakpoints):\n",
        "    for bp in breakpoints:\n",
        "        if bp[0] <= concentration <= bp[1]:\n",
        "            return ((bp[3] - bp[2]) / (bp[1] - bp[0])) * (concentration - bp[0]) + bp[2]\n",
        "    return None\n",
        "\n",
        "# Apply the AQI calculation for PM2.5 and PM10\n",
        "df['AQI_PM25'] = df['PM2.5'].apply(lambda x: calculate_aqi(x, pm25_breakpoints))\n",
        "df['AQI_PM10'] = df['PM10'].apply(lambda x: calculate_aqi(x, pm10_breakpoints))\n",
        "\n",
        "# Take the maximum AQI value from PM2.5 and PM10 as the final AQI\n",
        "df['AQI'] = df[['AQI_PM25', 'AQI_PM10']].max(axis=1)\n",
        "\n",
        "# Drop temporary columns\n",
        "df.drop(columns=['AQI_PM25', 'AQI_PM10'], inplace=True)\n",
        "\n",
        "# Remove non-numeric columns\n",
        "df = df.select_dtypes(include=[np.number])"
      ],
      "metadata": {
        "id": "eptkzfMpafBr"
      },
      "execution_count": 6,
      "outputs": []
    },
    {
      "cell_type": "code",
      "source": [
        "# Step 3: Prepare Data for Machine Learning Model\n",
        "\n",
        "# Features (X) and Target (y)\n",
        "X = df.drop(columns=['AQI'])  # Use all features except AQI\n",
        "y = df['AQI']  # Target variable\n",
        "\n",
        "# Train-Test split\n",
        "X_train, X_test, y_train, y_test = train_test_split(X, y, test_size=0.2, random_state=42)"
      ],
      "metadata": {
        "id": "D_VcVHpraizH"
      },
      "execution_count": 7,
      "outputs": []
    },
    {
      "cell_type": "code",
      "source": [
        "# Step 4: Train a Random Forest Model to Predict AQI\n",
        "\n",
        "# Initialize the model\n",
        "model = RandomForestRegressor(n_estimators=100, random_state=42)\n",
        "\n",
        "# Train the model\n",
        "model.fit(X_train, y_train)\n",
        "\n",
        "# Save the trained model to a file\n",
        "joblib.dump(model, 'aqi_model.pkl')\n",
        "\n",
        "print(\"Model training complete. Model saved as 'aqi_model.pkl'.\")"
      ],
      "metadata": {
        "colab": {
          "base_uri": "https://localhost:8080/"
        },
        "id": "0Njl0yk9azff",
        "outputId": "d0becafe-1490-4f43-d015-db88c6abd629"
      },
      "execution_count": 8,
      "outputs": [
        {
          "output_type": "stream",
          "name": "stdout",
          "text": [
            "Model training complete. Model saved as 'aqi_model.pkl'.\n"
          ]
        }
      ]
    },
    {
      "cell_type": "code",
      "source": [
        "# Step 5: Evaluate the model on test data\n",
        "y_pred = model.predict(X_test)\n",
        "\n",
        "# Calculate performance metrics\n",
        "mae = mean_absolute_error(y_test, y_pred)\n",
        "rmse = np.sqrt(mean_squared_error(y_test, y_pred))\n",
        "print(f\"Mean Absolute Error (MAE): {mae}\")\n",
        "print(f\"Root Mean Squared Error (RMSE): {rmse}\")"
      ],
      "metadata": {
        "colab": {
          "base_uri": "https://localhost:8080/"
        },
        "id": "rbzzbbdieJ29",
        "outputId": "f2d04b9e-b9eb-47b0-dc07-4a56edd42b44"
      },
      "execution_count": 9,
      "outputs": [
        {
          "output_type": "stream",
          "name": "stdout",
          "text": [
            "Mean Absolute Error (MAE): 0.41787570141882047\n",
            "Root Mean Squared Error (RMSE): 4.270932625453508\n"
          ]
        }
      ]
    },
    {
      "cell_type": "code",
      "source": [
        "# Step 6: Test the model with an example input\n",
        "example_input = X_test.iloc[0:1]  # Take the first example from the test set\n",
        "example_prediction = model.predict(example_input)\n",
        "print(\"Example input:\")\n",
        "print(example_input)\n",
        "print(f\"Predicted AQI: {example_prediction[0]}\")"
      ],
      "metadata": {
        "colab": {
          "base_uri": "https://localhost:8080/"
        },
        "id": "fkKzkWz5eKau",
        "outputId": "4a405e7a-d815-4d7a-99ee-921a6d3030e7"
      },
      "execution_count": 10,
      "outputs": [
        {
          "output_type": "stream",
          "name": "stdout",
          "text": [
            "Example input:\n",
            "      PM2.5    PM10    NO2    SO2    CO   Temp\n",
            "1029  63.98  127.99  10.13  27.24  1.41  35.73\n",
            "Predicted AQI: 155.34199894625937\n"
          ]
        }
      ]
    },
    {
      "cell_type": "code",
      "source": [
        "# Step 7: Plot actual vs predicted values\n",
        "plt.figure(figsize=(10, 6))\n",
        "plt.scatter(y_test, y_pred, color='blue', label='Predicted vs Actual AQI')\n",
        "plt.plot([min(y_test), max(y_test)], [min(y_test), max(y_test)], color='red', lw=2, label='Perfect Fit')\n",
        "plt.xlabel('Actual AQI')\n",
        "plt.ylabel('Predicted AQI')\n",
        "plt.title('Actual vs Predicted AQI')\n",
        "plt.legend()\n",
        "plt.grid(True)\n",
        "plt.show()"
      ],
      "metadata": {
        "colab": {
          "base_uri": "https://localhost:8080/",
          "height": 564
        },
        "id": "4rzSIDOLebIu",
        "outputId": "dfd57feb-4802-4c80-8e24-bfe927ba3644"
      },
      "execution_count": 11,
      "outputs": [
        {
          "output_type": "display_data",
          "data": {
            "text/plain": [
              "<Figure size 1000x600 with 1 Axes>"
            ],
            "image/png": "[encoded data removed]"
          },
          "metadata": {}
        }
      ]
    },
    {
      "cell_type": "code",
      "source": [
        "print(\"\\nEnter the values for the following features:\")\n",
        "pm25_input = float(input(\"PM2.5 value: \"))\n",
        "pm10_input = float(input(\"PM10 value: \"))\n",
        "no2_input = float(input(\"NO2 value: \"))\n",
        "co_input = float(input(\"CO value: \"))\n",
        "so2_input = float(input(\"SO2 value: \"))\n",
        "temp_input = float(input(\"Temperature value: \"))\n",
        "\n",
        "# Get current date and time for Year, Month, Day, and Hour\n",
        "now = datetime.now()\n",
        "\n",
        "# Create a DataFrame for the user input\n",
        "user_input = pd.DataFrame({\n",
        "    'PM2.5': [pm25_input],\n",
        "    'PM10': [pm10_input],\n",
        "    'NO2': [no2_input],\n",
        "    'CO': [co_input],\n",
        "    'SO2': [so2_input],\n",
        "    'Temp': [temp_input],\n",
        "    'Year': [now.year],  # Use current year\n",
        "    'Month': [now.month],  # Use current month\n",
        "    'Day': [now.day],  # Use current day\n",
        "    'Hour': [now.hour]  # Use current hour\n",
        "})\n",
        "\n",
        "# Ensure columns in user_input match those in X\n",
        "user_input = user_input[X.columns]  # Reorder/adjust columns to match X\n",
        "\n",
        "# Predict AQI for the user input\n",
        "user_prediction = model.predict(user_input)\n",
        "print(f\"\\nPredicted AQI for the given input: {user_prediction[0]}\")\n"
      ],
      "metadata": {
        "colab": {
          "base_uri": "https://localhost:8080/"
        },
        "id": "EFGSNWtYgXtw",
        "outputId": "6145087c-298d-43c0-e844-1cd45f9bb53c"
      },
      "execution_count": 12,
      "outputs": [
        {
          "output_type": "stream",
          "name": "stdout",
          "text": [
            "\n",
            "Enter the values for the following features:\n",
            "PM2.5 value: 45.5\n",
            "PM10 value: 120\n",
            "NO2 value: 35\n",
            "CO value: 0.9\n",
            "SO2 value: 10\n",
            "Temperature value: 25.5\n",
            "\n",
            "Predicted AQI for the given input: 125.55244723618092\n"
          ]
        }
      ]
    },
    {
      "cell_type": "code",
      "source": [
        "!pip show scikit-learn"
      ],
      "metadata": {
        "colab": {
          "base_uri": "https://localhost:8080/"
        },
        "id": "KKV05nT6iU4Y",
        "outputId": "c5b27397-38c3-4fa6-81ca-c597283538ef"
      },
      "execution_count": 13,
      "outputs": [
        {
          "output_type": "stream",
          "name": "stdout",
          "text": [
            "Name: scikit-learn\n",
            "Version: 1.3.2\n",
            "Summary: A set of python modules for machine learning and data mining\n",
            "Home-page: http://scikit-learn.org\n",
            "Author: \n",
            "Author-email: \n",
            "License: new BSD\n",
            "Location: /usr/local/lib/python3.10/dist-packages\n",
            "Requires: joblib, numpy, scipy, threadpoolctl\n",
            "Required-by: bigframes, fastai, imbalanced-learn, librosa, mlxtend, skl2onnx, sklearn-pandas, yellowbrick\n"
          ]
        }
      ]
    },
    {
      "cell_type": "code",
      "source": [
        "!pip install onnx\n",
        "!pip install skl2onnx"
      ],
      "metadata": {
        "colab": {
          "base_uri": "https://localhost:8080/"
        },
        "id": "voqst8dppx2C",
        "outputId": "99a43994-81e1-4971-95d6-4e74a08dd545"
      },
      "execution_count": 14,
      "outputs": [
        {
          "output_type": "stream",
          "name": "stdout",
          "text": [
            "Requirement already satisfied: onnx in /usr/local/lib/python3.10/dist-packages (1.16.2)\n",
            "Requirement already satisfied: numpy>=1.20 in /usr/local/lib/python3.10/dist-packages (from onnx) (1.26.4)\n",
            "Requirement already satisfied: protobuf>=3.20.2 in /usr/local/lib/python3.10/dist-packages (from onnx) (3.20.2)\n",
            "Requirement already satisfied: skl2onnx in /usr/local/lib/python3.10/dist-packages (1.17.0)\n",
            "Requirement already satisfied: onnx>=1.2.1 in /usr/local/lib/python3.10/dist-packages (from skl2onnx) (1.16.2)\n",
            "Requirement already satisfied: scikit-learn>=1.1 in /usr/local/lib/python3.10/dist-packages (from skl2onnx) (1.3.2)\n",
            "Requirement already satisfied: onnxconverter-common>=1.7.0 in /usr/local/lib/python3.10/dist-packages (from skl2onnx) (1.14.0)\n",
            "Requirement already satisfied: numpy>=1.20 in /usr/local/lib/python3.10/dist-packages (from onnx>=1.2.1->skl2onnx) (1.26.4)\n",
            "Requirement already satisfied: protobuf>=3.20.2 in /usr/local/lib/python3.10/dist-packages (from onnx>=1.2.1->skl2onnx) (3.20.2)\n",
            "Requirement already satisfied: packaging in /usr/local/lib/python3.10/dist-packages (from onnxconverter-common>=1.7.0->skl2onnx) (24.1)\n",
            "Requirement already satisfied: scipy>=1.5.0 in /usr/local/lib/python3.10/dist-packages (from scikit-learn>=1.1->skl2onnx) (1.13.1)\n",
            "Requirement already satisfied: joblib>=1.1.1 in /usr/local/lib/python3.10/dist-packages (from scikit-learn>=1.1->skl2onnx) (1.4.2)\n",
            "Requirement already satisfied: threadpoolctl>=2.0.0 in /usr/local/lib/python3.10/dist-packages (from scikit-learn>=1.1->skl2onnx) (3.5.0)\n"
          ]
        }
      ]
    },
    {
      "cell_type": "code",
      "source": [
        "import onnx\n",
        "import skl2onnx\n",
        "from skl2onnx import convert_sklearn\n",
        "from skl2onnx.common.data_types import FloatTensorType\n",
        "\n",
        "# Convert model to ONNX format\n",
        "initial_type = [('float_input', FloatTensorType([None, X.shape[1]]))]\n",
        "onnx_model = convert_sklearn(model, initial_types=initial_type)\n",
        "\n",
        "# Save the ONNX model\n",
        "with open('aqi_model.onnx', 'wb') as file:\n",
        "    file.write(onnx_model.SerializeToString())"
      ],
      "metadata": {
        "id": "OO1tKFiypvSy"
      },
      "execution_count": 15,
      "outputs": []
    },
    {
      "cell_type": "code",
      "source": [],
      "metadata": {
        "id": "geU7_COXpwA9"
      },
      "execution_count": null,
      "outputs": []
    }
  ]
}